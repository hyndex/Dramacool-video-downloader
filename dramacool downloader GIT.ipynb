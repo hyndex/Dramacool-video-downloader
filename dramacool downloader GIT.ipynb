{
 "cells": [
  {
   "cell_type": "code",
   "execution_count": 8,
   "metadata": {},
   "outputs": [],
   "source": [
    "from selenium import webdriver\n",
    "from webdriver_manager.chrome import ChromeDriverManager\n",
    "from bs4 import BeautifulSoup\n",
    "import urllib.request\n",
    "import time\n",
    "\n",
    "def Remove(duplicate): \n",
    "    final_list = [] \n",
    "    for num in duplicate: \n",
    "        if num not in final_list: \n",
    "            final_list.append(num) \n",
    "    return final_list \n",
    "driver = webdriver.Chrome(ChromeDriverManager().install())\n",
    "url=input('Enter the webseries url: ')\n",
    "driver.get(str(url))\n",
    "time.sleep(5)\n",
    "driver.maximize_window()\n",
    "time.sleep(5)\n",
    "driver.find_element_by_class_name('show-all').click()\n",
    "temp = driver.find_element_by_class_name('all-episode')\n",
    "links=[]\n",
    "for i in temp.get_attribute('innerHTML').split('a href=\"')[1:]:\n",
    "    links.append('https://www3.dramacool.movie'+i.split('\"')[0])\n",
    "download_link=[]\n",
    "for link in links:\n",
    "    driver.get('https://www.tubeoffline.com/download-DramaCool-videos.php')\n",
    "    temp = driver.find_element_by_class_name('videoLink')\n",
    "    temp.clear()\n",
    "    temp.send_keys(link)\n",
    "    driver.find_element_by_id('submitbutton').click()\n",
    "    time.sleep(3)\n",
    "    temp = driver.find_element_by_css_selector('#videoDownload > table > tbody')\n",
    "    temp = temp.get_attribute('innerHTML').split('a href=\"')[1].split('\"')[0]\n",
    "    print(temp)\n",
    "    download_link.append(temp)"
   ]
  }
 ],
 "metadata": {
  "kernelspec": {
   "display_name": "Python 3",
   "language": "python",
   "name": "python3"
  },
  "language_info": {
   "codemirror_mode": {
    "name": "ipython",
    "version": 3
   },
   "file_extension": ".py",
   "mimetype": "text/x-python",
   "name": "python",
   "nbconvert_exporter": "python",
   "pygments_lexer": "ipython3",
   "version": "3.6.5"
  }
 },
 "nbformat": 4,
 "nbformat_minor": 2
}
